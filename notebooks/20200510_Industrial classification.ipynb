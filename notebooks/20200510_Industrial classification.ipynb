version https://git-lfs.github.com/spec/v1
oid sha256:e93054ae1abe5e7f885860a5105ecb97f2b23a66969ad1ee22d0c45c14bcef08
size 9281
