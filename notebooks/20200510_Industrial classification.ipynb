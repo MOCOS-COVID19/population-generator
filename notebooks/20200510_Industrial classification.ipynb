version https://git-lfs.github.com/spec/v1
oid sha256:e1b0cd9cedeaccb2a48e41ad581a03ccf16c430368f4be1a44adf498c2ec96ac
size 27475
